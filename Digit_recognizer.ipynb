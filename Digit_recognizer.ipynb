{
  "nbformat": 4,
  "nbformat_minor": 0,
  "metadata": {
    "colab": {
      "name": "Digit_recognizer.ipynb",
      "provenance": [],
      "collapsed_sections": [],
      "mount_file_id": "1pmw2WIGIigwo8gHb6qPiThUqTuMVXYMK",
      "authorship_tag": "ABX9TyNYLJAsq1pgh3GjbDMlFefU",
      "include_colab_link": true
    },
    "kernelspec": {
      "name": "python3",
      "display_name": "Python 3"
    },
    "language_info": {
      "name": "python"
    },
    "accelerator": "GPU"
  },
  "cells": [
    {
      "cell_type": "markdown",
      "metadata": {
        "id": "view-in-github",
        "colab_type": "text"
      },
      "source": [
        "<a href=\"https://colab.research.google.com/github/Anlu-Chen/Digit_recognizer/blob/main/Digit_recognizer.ipynb\" target=\"_parent\"><img src=\"https://colab.research.google.com/assets/colab-badge.svg\" alt=\"Open In Colab\"/></a>"
      ]
    },
    {
      "cell_type": "code",
      "metadata": {
        "colab": {
          "base_uri": "https://localhost:8080/"
        },
        "id": "HhRGZO64dAjD",
        "outputId": "345eee3d-e81a-4088-b05d-b530d33ea858"
      },
      "source": [
        "import numpy as np\n",
        "import matplotlib.pyplot as plt\n",
        "import random as rand\n",
        "import tensorflow as tf\n",
        "print(tf.__version__)\n",
        "import time as time\n",
        "import math as math\n",
        "from tensorflow.keras.callbacks import LearningRateScheduler\n",
        "import pandas as pd"
      ],
      "execution_count": 1,
      "outputs": [
        {
          "output_type": "stream",
          "text": [
            "2.4.1\n"
          ],
          "name": "stdout"
        }
      ]
    },
    {
      "cell_type": "code",
      "metadata": {
        "colab": {
          "base_uri": "https://localhost:8080/"
        },
        "id": "FQv-laJWfVWr",
        "outputId": "d7366b13-2094-4d66-b084-c98c446761e9"
      },
      "source": [
        "data = np.loadtxt('/content/drive/MyDrive/mnist clasif_numeros/train.csv',delimiter=',',skiprows=1)\n",
        "print(data.shape)"
      ],
      "execution_count": 2,
      "outputs": [
        {
          "output_type": "stream",
          "text": [
            "(42000, 785)\n"
          ],
          "name": "stdout"
        }
      ]
    },
    {
      "cell_type": "code",
      "metadata": {
        "colab": {
          "base_uri": "https://localhost:8080/"
        },
        "id": "JWs8Vph_f72t",
        "outputId": "278f9b0f-74ae-4ccf-eb3e-0a2869c70b38"
      },
      "source": [
        "data_images = data[0:42000, 1:785]\n",
        "data_number = data[0:42000, 0]\n",
        "print(data_images.shape, data_number.shape)\n",
        "\n",
        "numeros = list(range(0,42000))\n",
        "rand.shuffle(numeros)\n",
        "#print(numeros)\n",
        "print(type(numeros))\n",
        "print(len(numeros)-len(set(numeros)))  #para comprobar si se ha repetido algun numero, si sale 0, no se ha repetido\n",
        "numeros_random = np.array(numeros) #pasar la lista a vector\n",
        "#print(numeros_random)"
      ],
      "execution_count": 14,
      "outputs": [
        {
          "output_type": "stream",
          "text": [
            "(42000, 784) (42000,)\n",
            "<class 'list'>\n",
            "0\n"
          ],
          "name": "stdout"
        }
      ]
    },
    {
      "cell_type": "code",
      "metadata": {
        "colab": {
          "base_uri": "https://localhost:8080/",
          "height": 282
        },
        "id": "vQ2NFAl3nMJ-",
        "outputId": "3dc57fa3-b047-47bf-e7fc-7e45bcb7c398"
      },
      "source": [
        "train_data= data_images[numeros_random[0:38000],:]\n",
        "train_number= data_number[numeros_random[0:38000]]\n",
        "test_data= data_images[numeros_random[38000:42000],:]\n",
        "test_number=data_number[numeros_random[38000:42000]]\n",
        "print(train_data.shape,\n",
        "      train_number.shape,\n",
        "      test_data.shape,\n",
        "      test_number.shape)\n",
        "example = np.reshape(train_data,(38000,28,28))\n",
        "plt.imshow(np.asarray(example[12]),cmap='gray')\n",
        "plt.colorbar()\n",
        "plt.show()"
      ],
      "execution_count": 13,
      "outputs": [
        {
          "output_type": "stream",
          "text": [
            "(38000, 784) (38000,) (4000, 784) (4000,)\n"
          ],
          "name": "stdout"
        },
        {
          "output_type": "display_data",
          "data": {
            "image/png": "[encoded data removed]",
            "text/plain": [
              "<Figure size 432x288 with 2 Axes>"
            ]
          },
          "metadata": {
            "tags": [],
            "needs_background": "light"
          }
        }
      ]
    },
    {
      "cell_type": "code",
      "metadata": {
        "id": "gtpIn-ZHpwI7"
      },
      "source": [
        "train_images0 = np.reshape(train_data,(38000,28,28,1))\n",
        "train_images = train_images0/255.0\n",
        "test_images0 = np.reshape(test_data,(4000,28,28,1))\n",
        "test_images = test_images0/255.0"
      ],
      "execution_count": 5,
      "outputs": []
    },
    {
      "cell_type": "code",
      "metadata": {
        "colab": {
          "base_uri": "https://localhost:8080/",
          "height": 1000
        },
        "id": "X34NA7AWpwhX",
        "outputId": "3ffc7176-4fef-44ec-9516-96cf014bcffe"
      },
      "source": [
        "\n",
        "# Entrenamiento de red CNN.\n",
        "tic=time.time()\n",
        "\n",
        "model = tf.keras.models.Sequential([\n",
        "        tf.keras.layers.Conv2D(32, kernel_size=(2,2),input_shape=train_images[0].shape),\n",
        "        tf.keras.layers.BatchNormalization(),\n",
        "        tf.keras.layers.Activation('elu'),\n",
        "        tf.keras.layers.MaxPooling2D(2,2),\n",
        "        tf.keras.layers.Conv2D(64, kernel_size=(2,2)),\n",
        "        tf.keras.layers.BatchNormalization(),\n",
        "        tf.keras.layers.Activation('elu'),  \n",
        "        tf.keras.layers.MaxPooling2D(2,2),\n",
        "        tf.keras.layers.Conv2D(128, kernel_size=(2,2)),\n",
        "        tf.keras.layers.BatchNormalization(),\n",
        "        tf.keras.layers.Activation('elu'),  \n",
        "        tf.keras.layers.MaxPooling2D(2,2),\n",
        "        tf.keras.layers.Flatten(),\n",
        "        \n",
        "        tf.keras.layers.Dense(2048,kernel_initializer='random_normal',bias_initializer='zeros', use_bias=True), \n",
        "        tf.keras.layers.BatchNormalization(),\n",
        "        tf.keras.layers.Activation('elu'),\n",
        "        tf.keras.layers.Dense(1024, use_bias=True),\n",
        "        tf.keras.layers.BatchNormalization(),\n",
        "        tf.keras.layers.Activation('elu'),\n",
        "        tf.keras.layers.Dense(512, use_bias=True),\n",
        "        tf.keras.layers.BatchNormalization(),\n",
        "        tf.keras.layers.Activation('elu'),\n",
        "        tf.keras.layers.Dense(256, use_bias=True),\n",
        "        tf.keras.layers.BatchNormalization(),\n",
        "        tf.keras.layers.Activation('elu'),\n",
        "        tf.keras.layers.Dense(128, use_bias=True),\n",
        "        tf.keras.layers.BatchNormalization(),\n",
        "        tf.keras.layers.Activation('elu'),\n",
        "        tf.keras.layers.Dense(128, use_bias=True),\n",
        "        tf.keras.layers.BatchNormalization(),\n",
        "        tf.keras.layers.Activation('elu'),\n",
        "        tf.keras.layers.Dense(128, use_bias=True),\n",
        "        tf.keras.layers.BatchNormalization(),\n",
        "        tf.keras.layers.Activation('elu'),\n",
        "        tf.keras.layers.Dense(10, activation='softmax', use_bias=True)])\n",
        "############################################################################\n",
        "# Compilamos el modelo\n",
        "# Definimos como va a ser el ratio de aprendizaje exponencial.\n",
        "\n",
        "opt=tf.keras.optimizers.SGD(momentum=0.9, nesterov=True, name='SGD')\n",
        "model.compile(\n",
        "    optimizer=opt,\n",
        "    loss='sparse_categorical_crossentropy',\n",
        "    metrics=['accuracy']) \n",
        "\n",
        "initial_learning_rate = 0.1\n",
        "def lr_exp_decay(epoch, learning_rate):\n",
        "    k = 0.1\n",
        "    return initial_learning_rate * math.exp(-k*epoch)\n",
        "\n",
        "# Ajustamos el modelo.\n",
        "training_history = model.fit(\n",
        "        train_images, \n",
        "        train_number, \n",
        "        batch_size=20,\n",
        "        epochs=20, \n",
        "        validation_data=(test_images, test_number),\n",
        "        callbacks=[LearningRateScheduler(lr_exp_decay, verbose=1)]\n",
        "        )\n",
        "\n",
        "############################################################################\n",
        "# Pintamos el modelo\n",
        "model.summary() \n",
        "pd.DataFrame(training_history.history).plot(figsize=(12,7))\n",
        "plt.grid(True)\n",
        "plt.show()\n",
        "\n",
        "toc=time.time()\n",
        "print((toc-tic)/60,'\\n minutos ha durado')"
      ],
      "execution_count": 9,
      "outputs": [
        {
          "output_type": "stream",
          "text": [
            "Epoch 1/20\n",
            "\n",
            "Epoch 00001: LearningRateScheduler reducing learning rate to 0.1.\n",
            "1900/1900 [==============================] - 14s 7ms/step - loss: 0.4876 - accuracy: 0.8536 - val_loss: 0.2006 - val_accuracy: 0.9383\n",
            "Epoch 2/20\n",
            "\n",
            "Epoch 00002: LearningRateScheduler reducing learning rate to 0.09048374180359596.\n",
            "1900/1900 [==============================] - 12s 6ms/step - loss: 0.1394 - accuracy: 0.9592 - val_loss: 0.0725 - val_accuracy: 0.9795\n",
            "Epoch 3/20\n",
            "\n",
            "Epoch 00003: LearningRateScheduler reducing learning rate to 0.0818730753077982.\n",
            "1900/1900 [==============================] - 12s 6ms/step - loss: 0.1011 - accuracy: 0.9690 - val_loss: 0.1173 - val_accuracy: 0.9660\n",
            "Epoch 4/20\n",
            "\n",
            "Epoch 00004: LearningRateScheduler reducing learning rate to 0.0740818220681718.\n",
            "1900/1900 [==============================] - 12s 6ms/step - loss: 0.0877 - accuracy: 0.9729 - val_loss: 0.0625 - val_accuracy: 0.9815\n",
            "Epoch 5/20\n",
            "\n",
            "Epoch 00005: LearningRateScheduler reducing learning rate to 0.06703200460356394.\n",
            "1900/1900 [==============================] - 12s 6ms/step - loss: 0.0687 - accuracy: 0.9806 - val_loss: 0.0760 - val_accuracy: 0.9797\n",
            "Epoch 6/20\n",
            "\n",
            "Epoch 00006: LearningRateScheduler reducing learning rate to 0.06065306597126335.\n",
            "1900/1900 [==============================] - 12s 6ms/step - loss: 0.0569 - accuracy: 0.9835 - val_loss: 0.0471 - val_accuracy: 0.9868\n",
            "Epoch 7/20\n",
            "\n",
            "Epoch 00007: LearningRateScheduler reducing learning rate to 0.05488116360940264.\n",
            "1900/1900 [==============================] - 12s 7ms/step - loss: 0.0436 - accuracy: 0.9873 - val_loss: 0.0522 - val_accuracy: 0.9852\n",
            "Epoch 8/20\n",
            "\n",
            "Epoch 00008: LearningRateScheduler reducing learning rate to 0.04965853037914095.\n",
            "1900/1900 [==============================] - 12s 6ms/step - loss: 0.0434 - accuracy: 0.9872 - val_loss: 0.0556 - val_accuracy: 0.9858\n",
            "Epoch 9/20\n",
            "\n",
            "Epoch 00009: LearningRateScheduler reducing learning rate to 0.044932896411722156.\n",
            "1900/1900 [==============================] - 12s 6ms/step - loss: 0.0330 - accuracy: 0.9897 - val_loss: 0.0391 - val_accuracy: 0.9900\n",
            "Epoch 10/20\n",
            "\n",
            "Epoch 00010: LearningRateScheduler reducing learning rate to 0.04065696597405991.\n",
            "1900/1900 [==============================] - 12s 6ms/step - loss: 0.0269 - accuracy: 0.9912 - val_loss: 0.0478 - val_accuracy: 0.9883\n",
            "Epoch 11/20\n",
            "\n",
            "Epoch 00011: LearningRateScheduler reducing learning rate to 0.036787944117144235.\n",
            "1900/1900 [==============================] - 12s 6ms/step - loss: 0.0270 - accuracy: 0.9918 - val_loss: 0.0449 - val_accuracy: 0.9887\n",
            "Epoch 12/20\n",
            "\n",
            "Epoch 00012: LearningRateScheduler reducing learning rate to 0.03328710836980796.\n",
            "1900/1900 [==============================] - 12s 6ms/step - loss: 0.0200 - accuracy: 0.9931 - val_loss: 0.0453 - val_accuracy: 0.9893\n",
            "Epoch 13/20\n",
            "\n",
            "Epoch 00013: LearningRateScheduler reducing learning rate to 0.030119421191220203.\n",
            "1900/1900 [==============================] - 12s 7ms/step - loss: 0.0207 - accuracy: 0.9932 - val_loss: 0.0426 - val_accuracy: 0.9898\n",
            "Epoch 14/20\n",
            "\n",
            "Epoch 00014: LearningRateScheduler reducing learning rate to 0.02725317930340126.\n",
            "1900/1900 [==============================] - 12s 6ms/step - loss: 0.0159 - accuracy: 0.9954 - val_loss: 0.0452 - val_accuracy: 0.9890\n",
            "Epoch 15/20\n",
            "\n",
            "Epoch 00015: LearningRateScheduler reducing learning rate to 0.024659696394160643.\n",
            "1900/1900 [==============================] - 12s 6ms/step - loss: 0.0143 - accuracy: 0.9952 - val_loss: 0.0431 - val_accuracy: 0.9905\n",
            "Epoch 16/20\n",
            "\n",
            "Epoch 00016: LearningRateScheduler reducing learning rate to 0.022313016014842982.\n",
            "1900/1900 [==============================] - 12s 6ms/step - loss: 0.0135 - accuracy: 0.9953 - val_loss: 0.0435 - val_accuracy: 0.9880\n",
            "Epoch 17/20\n",
            "\n",
            "Epoch 00017: LearningRateScheduler reducing learning rate to 0.02018965179946554.\n",
            "1900/1900 [==============================] - 12s 6ms/step - loss: 0.0109 - accuracy: 0.9963 - val_loss: 0.0494 - val_accuracy: 0.9887\n",
            "Epoch 18/20\n",
            "\n",
            "Epoch 00018: LearningRateScheduler reducing learning rate to 0.018268352405273462.\n",
            "1900/1900 [==============================] - 12s 6ms/step - loss: 0.0070 - accuracy: 0.9977 - val_loss: 0.0500 - val_accuracy: 0.9893\n",
            "Epoch 19/20\n",
            "\n",
            "Epoch 00019: LearningRateScheduler reducing learning rate to 0.016529888822158653.\n",
            "1900/1900 [==============================] - 12s 6ms/step - loss: 0.0077 - accuracy: 0.9971 - val_loss: 0.0411 - val_accuracy: 0.9898\n",
            "Epoch 20/20\n",
            "\n",
            "Epoch 00020: LearningRateScheduler reducing learning rate to 0.014956861922263504.\n",
            "1900/1900 [==============================] - 12s 6ms/step - loss: 0.0069 - accuracy: 0.9979 - val_loss: 0.0385 - val_accuracy: 0.9912\n",
            "Model: \"sequential_3\"\n",
            "_________________________________________________________________\n",
            "Layer (type)                 Output Shape              Param #   \n",
            "=================================================================\n",
            "conv2d_9 (Conv2D)            (None, 27, 27, 32)        160       \n",
            "_________________________________________________________________\n",
            "batch_normalization_30 (Batc (None, 27, 27, 32)        128       \n",
            "_________________________________________________________________\n",
            "activation_30 (Activation)   (None, 27, 27, 32)        0         \n",
            "_________________________________________________________________\n",
            "max_pooling2d_9 (MaxPooling2 (None, 13, 13, 32)        0         \n",
            "_________________________________________________________________\n",
            "conv2d_10 (Conv2D)           (None, 12, 12, 64)        8256      \n",
            "_________________________________________________________________\n",
            "batch_normalization_31 (Batc (None, 12, 12, 64)        256       \n",
            "_________________________________________________________________\n",
            "activation_31 (Activation)   (None, 12, 12, 64)        0         \n",
            "_________________________________________________________________\n",
            "max_pooling2d_10 (MaxPooling (None, 6, 6, 64)          0         \n",
            "_________________________________________________________________\n",
            "conv2d_11 (Conv2D)           (None, 5, 5, 128)         32896     \n",
            "_________________________________________________________________\n",
            "batch_normalization_32 (Batc (None, 5, 5, 128)         512       \n",
            "_________________________________________________________________\n",
            "activation_32 (Activation)   (None, 5, 5, 128)         0         \n",
            "_________________________________________________________________\n",
            "max_pooling2d_11 (MaxPooling (None, 2, 2, 128)         0         \n",
            "_________________________________________________________________\n",
            "flatten_3 (Flatten)          (None, 512)               0         \n",
            "_________________________________________________________________\n",
            "dense_24 (Dense)             (None, 2048)              1050624   \n",
            "_________________________________________________________________\n",
            "batch_normalization_33 (Batc (None, 2048)              8192      \n",
            "_________________________________________________________________\n",
            "activation_33 (Activation)   (None, 2048)              0         \n",
            "_________________________________________________________________\n",
            "dense_25 (Dense)             (None, 1024)              2098176   \n",
            "_________________________________________________________________\n",
            "batch_normalization_34 (Batc (None, 1024)              4096      \n",
            "_________________________________________________________________\n",
            "activation_34 (Activation)   (None, 1024)              0         \n",
            "_________________________________________________________________\n",
            "dense_26 (Dense)             (None, 512)               524800    \n",
            "_________________________________________________________________\n",
            "batch_normalization_35 (Batc (None, 512)               2048      \n",
            "_________________________________________________________________\n",
            "activation_35 (Activation)   (None, 512)               0         \n",
            "_________________________________________________________________\n",
            "dense_27 (Dense)             (None, 256)               131328    \n",
            "_________________________________________________________________\n",
            "batch_normalization_36 (Batc (None, 256)               1024      \n",
            "_________________________________________________________________\n",
            "activation_36 (Activation)   (None, 256)               0         \n",
            "_________________________________________________________________\n",
            "dense_28 (Dense)             (None, 128)               32896     \n",
            "_________________________________________________________________\n",
            "batch_normalization_37 (Batc (None, 128)               512       \n",
            "_________________________________________________________________\n",
            "activation_37 (Activation)   (None, 128)               0         \n",
            "_________________________________________________________________\n",
            "dense_29 (Dense)             (None, 128)               16512     \n",
            "_________________________________________________________________\n",
            "batch_normalization_38 (Batc (None, 128)               512       \n",
            "_________________________________________________________________\n",
            "activation_38 (Activation)   (None, 128)               0         \n",
            "_________________________________________________________________\n",
            "dense_30 (Dense)             (None, 128)               16512     \n",
            "_________________________________________________________________\n",
            "batch_normalization_39 (Batc (None, 128)               512       \n",
            "_________________________________________________________________\n",
            "activation_39 (Activation)   (None, 128)               0         \n",
            "_________________________________________________________________\n",
            "dense_31 (Dense)             (None, 10)                1290      \n",
            "=================================================================\n",
            "Total params: 3,931,242\n",
            "Trainable params: 3,922,346\n",
            "Non-trainable params: 8,896\n",
            "_________________________________________________________________\n"
          ],
          "name": "stdout"
        },
        {
          "output_type": "display_data",
          "data": {
            "image/png": "[encoded data removed]",
            "text/plain": [
              "<Figure size 864x504 with 1 Axes>"
            ]
          },
          "metadata": {
            "tags": [],
            "needs_background": "light"
          }
        },
        {
          "output_type": "stream",
          "text": [
            "4.137434315681458 \n",
            " minutos ha durado\n"
          ],
          "name": "stdout"
        }
      ]
    }
  ]
}